{
 "cells": [
  {
   "cell_type": "markdown",
   "metadata": {},
   "source": [
    "![](http://sigdelta.com/assets/images/sages-sd-logo.png)\n",
    "\n",
    "# Analiza danych i uczenie maszynowe w Python\n",
    "\n",
    "Autor notebooka: Jakub Nowacki.\n",
    "\n",
    "## Obraz\n",
    "\n",
    "Oprócz danych numerycznych i tekstowych, używa się uczenia maszynowego do klasyfikacji obrazu. Jednym z tradycyjnych zadań klasyfikacji obrazu jest [MINST](https://en.wikipedia.org/wiki/MNIST_database). Dane są dostępne do pobrania za pomocą narzędzi scikit-learn."
   ]
  },
  {
   "cell_type": "code",
   "execution_count": null,
   "metadata": {
    "collapsed": true
   },
   "outputs": [],
   "source": [
    "import matplotlib.pyplot as plt\n",
    "from sklearn.datasets import fetch_mldata\n",
    "from sklearn.neural_network import MLPClassifier\n",
    "from sklearn.metrics import classification_report\n",
    "import numpy as np\n",
    "%matplotlib inline\n",
    "\n",
    "mnist = fetch_mldata(\"MNIST original\")\n",
    "\n",
    "mnist.data[0]"
   ]
  },
  {
   "cell_type": "code",
   "execution_count": null,
   "metadata": {
    "collapsed": true
   },
   "outputs": [],
   "source": [
    "np.unique(mnist.target)"
   ]
  },
  {
   "cell_type": "markdown",
   "metadata": {},
   "source": [
    "Podzielmy dane w sposób tradycyjny."
   ]
  },
  {
   "cell_type": "code",
   "execution_count": null,
   "metadata": {
    "collapsed": true
   },
   "outputs": [],
   "source": [
    "X, y = mnist.data / 255., mnist.target\n",
    "X_train, X_test = X[:60000], X[60000:]\n",
    "y_train, y_test = y[:60000], y[60000:]"
   ]
  },
  {
   "cell_type": "markdown",
   "metadata": {},
   "source": [
    "Dane są w istocie obrazami w rozmiarze 28 na 28 pikseli i są to liczby od 0 do 9. "
   ]
  },
  {
   "cell_type": "code",
   "execution_count": null,
   "metadata": {
    "collapsed": true
   },
   "outputs": [],
   "source": [
    "sample_data = np.array([mnist.data[mnist.target == c][np.random.randint(0, 1000)] for c in range(10)])\n",
    "fig, axes = plt.subplots(3, 3, figsize=(10, 8))\n",
    "for data, ax in zip(sample_data, axes.ravel()):\n",
    "    ax.matshow(data.reshape(28, 28), cmap=plt.cm.gray)\n",
    "    ax.set_xticks(())\n",
    "    ax.set_yticks(())"
   ]
  },
  {
   "cell_type": "markdown",
   "metadata": {},
   "source": [
    "### Wielowarstwowy perceptron\n",
    "\n",
    "Wielowarstwowy perceptron ([multi-layer perceptron (MLP)](http://scikit-learn.org/stable/modules/neural_networks_supervised.html#multi-layer-perceptron)) jest prostą siecią neuronową, która składa się z przynajmniej 3 warstw:\n",
    "\n",
    "* wejściowej\n",
    "* ukrytej (których może być wiele)\n",
    "* wyjściowej\n",
    "\n",
    "Najczęściej stosowaną funkcją aktywacyjną jest sigmoida w postaci tangensa hyperbolicznego.\n",
    "\n",
    "![](http://scikit-learn.org/stable/_images/multilayerperceptron_network.png)\n",
    "\n",
    "MLP stosuje się zarówno do klasyfikacji jak i do regresji, niemniej, przykładzie wykorzystamy [klasyfikator](http://scikit-learn.org/stable/modules/generated/sklearn.neural_network.MLPClassifier.html#sklearn.neural_network.MLPClassifier)."
   ]
  },
  {
   "cell_type": "code",
   "execution_count": null,
   "metadata": {
    "collapsed": true
   },
   "outputs": [],
   "source": [
    "mlp = MLPClassifier(hidden_layer_sizes=(50,), max_iter=10, alpha=1e-4,\n",
    "                    solver='sgd', verbose=10, tol=1e-4, random_state=1,\n",
    "                    learning_rate_init=.1)\n",
    "\n",
    "mlp.fit(X_train, y_train)\n",
    "print(\"Training set score: %f\" % mlp.score(X_train, y_train))\n",
    "print(\"Test set score: %f\" % mlp.score(X_test, y_test))\n",
    "print(classification_report(y_test, mlp.predict(X_test)))\n",
    "\n",
    "fig, axes = plt.subplots(4, 4, figsize=(10, 8))\n",
    "\n",
    "vmin, vmax = mlp.coefs_[0].min(), mlp.coefs_[0].max()\n",
    "for coef, ax in zip(mlp.coefs_[0].T, axes.ravel()):\n",
    "    ax.matshow(coef.reshape(28, 28), cmap=plt.cm.gray, vmin=.5 * vmin,\n",
    "               vmax=.5 * vmax)\n",
    "    ax.set_xticks(())\n",
    "    ax.set_yticks(())"
   ]
  },
  {
   "cell_type": "markdown",
   "metadata": {},
   "source": [
    "### Zadanie\n",
    "\n",
    "1. Zmień ilość warstw ukrytych i ilość neuronów; zobacz jak to wpływa na model.\n",
    "1. Użyj `GridSearchCV` do przeszukania parametrów modelu.\n",
    "1. Zmień skalowanie danych i zobacz jak model się zachowuje.\n",
    "1. Wypróbuj inną metodę rozwiązującą `solver`."
   ]
  }
 ],
 "metadata": {
  "kernelspec": {
   "display_name": "Python 3",
   "language": "python",
   "name": "python3"
  },
  "language_info": {
   "codemirror_mode": {
    "name": "ipython",
    "version": 3
   },
   "file_extension": ".py",
   "mimetype": "text/x-python",
   "name": "python",
   "nbconvert_exporter": "python",
   "pygments_lexer": "ipython3",
   "version": "3.6.3"
  }
 },
 "nbformat": 4,
 "nbformat_minor": 2
}
