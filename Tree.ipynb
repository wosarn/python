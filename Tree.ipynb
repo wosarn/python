{
 "cells": [
  {
   "cell_type": "markdown",
   "metadata": {},
   "source": [
    "# Tree"
   ]
  },
  {
   "cell_type": "code",
   "execution_count": 1,
   "metadata": {
    "collapsed": true
   },
   "outputs": [],
   "source": [
    "import pandas as pd\n",
    "import numpy as np\n",
    "import pyodbc \n",
    "from patsy import dmatrices\n",
    "conn = pyodbc.connect(\"Driver={SQL Server Native Client 11.0};\"\n",
    "                      \"Server=LAPTOP-FLVDOFJN\\SQLEXPRESS;\"\n",
    "                      \"Database=DPR;\"\n",
    "                      \"Trusted_Connection=yes;\")\n",
    "\n",
    "sql = \"\"\"\n",
    "SELECT \n",
    "                                [umo].[umowa]\n",
    "                                ,[umo].[podumo]\n",
    "                                ,[umo].[oferta]\n",
    "                                ,[umo].[FFINRPFH_czy]\n",
    "                                ,[umo].[KLi_NIP]\n",
    "                                ,[umo].[KLi_NAZWASKR]\n",
    "                                ,[umo].[KLi_NAZWA]\n",
    "                                ,[umo].[PORECZYCIEL_CZY]\n",
    "                                ,[umo].[PORECZYCIEL_NIP]\n",
    "                                ,[umo].[TR_DTZAWC]\n",
    "                                ,[umo].[TR_DTZAWC_MC]\n",
    "                                ,[umo].[TR_DTZAWC_Q]\n",
    "                                ,[umo].[TR_DTZAWC_RokOkres]\n",
    "                                ,[umo].[TR_DTZAWC_H]\n",
    "                                ,[umo].[TR_DTZAWC_Y]\n",
    "                                ,[umo].[TR_D30M3]\n",
    "                                ,[umo].[TR_D60M3]\n",
    "                                ,[umo].[TR_D60M6]\n",
    "                                ,[umo].[TR_D60M12]\n",
    "                                ,[umo].[TR_D60M24]\n",
    "                                ,[umo].[TR_D60M36]\n",
    "                                ,[umo].[TR_D90M12]\n",
    "                                ,[umo].[TR_D90M24]\n",
    "                                ,[umo].[TR_D90M36]\n",
    "                                ,[umo].[TR_STATUS_UMOWY_BIEZ]\n",
    "                                ,[umo].[TR_POZIOM_wykonanie]\n",
    "                                ,[umo].[TR_POZIOM_estymator]\n",
    "                                ,[umo].[TR_ANEKS_dataZawarciaUmowyAneksowanej]\n",
    "                                ,[umo].[TR_ANEKS_dataZawarciaAneksu]\n",
    "                                ,[umo].[TR_ANEKS_dataPierwszejZmianyKlienta]\n",
    "                                ,[umo].[TR_ANEKS_RODZAJ_id]\n",
    "                                ,[umo].[TR_HANDLOWIEC_SIEC]\n",
    "                                ,[umo].[TR_DOSTAWCA_NIP]\n",
    "                                ,[umo].[TR_DOSTAWCA_KATEGORIA]\n",
    "                                ,[umo].[TR_DOSTAWCA_KLASYFIKACJA]\n",
    "                                ,[umo].[TR_DOSTAWCA_LSD]\n",
    "                                ,[umo].[TR_DOSTAWCA_LSD_MiU]\n",
    "                                ,[umo].[TR_DOSTAWCA_LSD_TRUCK]\n",
    "                                ,[umo].[TR_DOSTAWCA_LSD_OSD]\n",
    "                                ,[umo].[TR_TYP_LEASINGU]\n",
    "                                ,[umo].[TR_TYP_UMOWY]\n",
    "                                ,[umo].[TR_WARIANT]\n",
    "                                ,[umo].[TR_PROCEDURA]\n",
    "                                ,[umo].[TR_HARMONOGRAM]\n",
    "                                ,[umo].[TR_HARMONOGRAM_czy_odrocz]\n",
    "                                ,[umo].[TR_LEAS_ZWROTNY_CZY]\n",
    "                                ,[umo].[TR_OKRES]\n",
    "                                ,[umo].[TR_WO]\n",
    "                                ,[umo].[TR_IRR]\n",
    "                                ,[umo].[TR_WARTOSC_WYKUPU]\n",
    "                                ,[umo].[TR_WARTOSC_WYKUPU_UDZIAL_CI]\n",
    "                                ,[umo].[TR_WARTOSC_WYKUPU_UDZIAL_RAT]\n",
    "                                ,[umo].[TR_WARTOSC_WYKUPU_UDZIAL_KON]\n",
    "                                ,[umo].[TR_CI]\n",
    "                                ,[umo].[TR_CI_PROC]\n",
    "                                ,[umo].[TR_PD_2013]\n",
    "                                ,[umo].[TR_EL_2013]\n",
    "                                ,[umo].[KL_KAT_ZAW_2013]\n",
    "                                ,[umo].[KL_SCORING_2013]\n",
    "                                ,[umo].[PRZEDM_asset]\n",
    "                                ,[umo].[PRZEDM_asset_DPR]\n",
    "                                ,[umo].[PRZEDM_OPIS_PRZEDMIOTU]\n",
    "                                ,[umo].[PRZEDM_OPIS_PRZEDMIOTU_GRUPA]\n",
    "                                ,[umo].[PRZEDM_OPIS_PRZEDMIOTU_GRUPA2]\n",
    "                                ,[umo].[PRZEDM_ROKPROD]\n",
    "                                ,[umo].[PRZEDM_WIEK_URUCH]\n",
    "                                ,[umo].[PRZEDM_WIEK_KONIEC_UM]\n",
    "                                ,[umo].[PRZEDM_KLASA]\n",
    "                                ,[umo].[PRZEDM_LUX]\n",
    "                                ,[umo].[PRZEDM_PREMIUM]\n",
    "                                ,[umo].[PRZEDM_MARKA]\n",
    "                                ,[umo].[PRZEDM_MARKA_ID]\n",
    "                                ,[umo].[PRZEDM_MODEL]\n",
    "                                ,[umo].[PRZEDM_SEGMENT]\n",
    "                                ,[umo].[PRZEDM_STAWKA_AMORTYZACJI]\n",
    "                                ,[umo].[KL_KAT_ZAW_GRUPA]\n",
    "                                ,[umo].[KL_ZRODLO_DANYCH]\n",
    "                                ,[umo].[KL_PKD2007_MAP]\n",
    "                                ,[umo].[KLi_PKD2007_MAP]\n",
    "                                ,[umo].[KL_DZIALALNOSC_OPIS]\n",
    "                                ,[umo].[KL_DZIALALNOSC]\n",
    "                                ,[umo].[KL_nTSL]\n",
    "                                ,[umo].[KL_nBUD]\n",
    "                                ,[umo].[KL_nBUD_nTSL]\n",
    "                                ,[umo].[KL_nWZP]\n",
    "                                ,[umo].[KL_BRANZA_OPIS]\n",
    "                                ,[umo].[KL_BRANZA_OPIS_GRUPA]\n",
    "                                ,[umo].[KL_BRANZA_PREF_ZAW]\n",
    "                                ,[umo].[KL_BRANZA_PREF_BIEZ]\n",
    "                                ,[umo].[KL_TYP_DZIALALNOSCI]\n",
    "                                ,[umo].[KL_KLASA_PRZEWOZNIKA]\n",
    "                                ,[umo].[KL_DATAROZPDZIAL]\n",
    "                                ,[umo].[KL_CZASPROWDZIALGOSP_L]\n",
    "                                ,[umo].[KL_FORMA_DZIAL]\n",
    "                                ,[umo].[KL_STAN_CYWILNY]\n",
    "                                ,[umo].[KL_LICZBA_PRAC]\n",
    "                                ,[umo].[KL_WIEK_PESELDEC]\n",
    "                                ,[umo].[KL_DOCHOD_RB]\n",
    "                                ,[umo].[KL_DOCHOD_RU]\n",
    "                                ,[umo].[KL_DOCHOD_MC]\n",
    "                                ,[umo].[KL_DOCHOD_12M]\n",
    "                                ,[umo].[KL_OBROT_RB]\n",
    "                                ,[umo].[KL_OBROT_RU]\n",
    "                                ,[umo].[KL_OBROT_12M]\n",
    "                                ,[umo].[KL_OBROT_MAX]\n",
    "                                ,[umo].[KL_OBROT_MC]\n",
    "                                ,[umo].[KL_ZYSK_RU]\n",
    "                                ,[umo].[KL_LICZBA_MIES_RU]\n",
    "                                ,[umo].[KL_LICZBA_MIES_RB]\n",
    "                                ,[umo].[KL_FIN_RODZAJ_KSIEGOWOSCI_RU_id]\n",
    "                                ,[umo].[KL_FIN_RODZAJ_KSIEGOWOSCI_RB_id]\n",
    "                                ,[umo].[KL_FIN_TYP_DOK_RU_id]\n",
    "                                ,[umo].[KL_FIN_TYP_DOK_RB_id]\n",
    "                                ,[umo].[KL_FIN_RYCZALT_czy]\n",
    "                                ,[umo].[KL_RENT_RU]\n",
    "                                ,[umo].[KL_RENT_RB]\n",
    "                                ,[umo].[KL_RENT_MC]\n",
    "                                ,[umo].[KL_DYNAM_DOCHOD]\n",
    "                                ,[umo].[KL_DYNAM_OBROT]\n",
    "                                ,[wyk].[TR_Default_FirstDate30]\n",
    "                                ,[wyk].[TR_Default_FirstDate60]\n",
    "                                ,[wyk].[TR_Default_FirstDate90]\n",
    "                                ,[wyk].[TR_FRAUD_DataStatusu]\n",
    "                              FROM \n",
    "                                [DPR].[dbo].[mk_dane_umow] [umo]\n",
    "                                inner join\n",
    "                                [DPR].[dbo].[mk_SCORE_umowy_wykonanie] [wyk] on [umo].[umowa] = [wyk].[umowa]\n",
    "                              WHERE \n",
    "                                [TR_DTZAWC_RokOkres] >= 201101\n",
    "                                and [umo].[FFINRPFH_czy] = 1\n",
    "\"\"\"\n",
    "#df = pandas.io.sql.read_sql(sql, conn)\n",
    "df = pd.read_sql(sql, conn)\n",
    "conn.close()"
   ]
  },
  {
   "cell_type": "code",
   "execution_count": 2,
   "metadata": {},
   "outputs": [
    {
     "name": "stdout",
     "output_type": "stream",
     "text": [
      "(115350, 123)\n"
     ]
    }
   ],
   "source": [
    "print(df.shape)"
   ]
  },
  {
   "cell_type": "code",
   "execution_count": 31,
   "metadata": {},
   "outputs": [
    {
     "name": "stdout",
     "output_type": "stream",
     "text": [
      "<class 'pandas.core.frame.DataFrame'>\n",
      "(59611, 75)\n",
      "(59611, 34)\n",
      "(59611, 41)\n"
     ]
    }
   ],
   "source": [
    "path_var = 'E:\\\\Wojtek\\\\_DSCN_\\\\Analiza_danych\\\\Leas\\\\data_set\\\\'\n",
    "var_df = pd.read_csv(path_var+'variables.csv', sep=';')\n",
    "var_df.columns\n",
    "var_df.type_var.value_counts()\n",
    "var_df.head(10)\n",
    "var_df.type_pred.value_counts(dropna=False)\n",
    "print(type(var_df))\n",
    "\n",
    "\n",
    "#predictors = var_df.variable[ (var_df.type_var == 'pred') | (var_df.variable == target_name) ]\n",
    "predictors = var_df.variable[ var_df.type_var == 'pred' ]\n",
    "type(predictors)\n",
    "#type(list)(predictors)\n",
    "target_name = 'TR_D90M12'\n",
    "\n",
    "col = df.columns.isin(predictors)+df.columns.isin([target_name])  # to raczej nie jest eleganckie rozwiązanie\n",
    "\n",
    "df_filtered = df.loc[ (df.FFINRPFH_czy == 1) \n",
    "            & (df.TR_ANEKS_RODZAJ_id  == 0) \n",
    "            & (df.TR_POZIOM_wykonanie == 1)  \n",
    "            & (df.PORECZYCIEL_CZY == 0)\n",
    "            & (pd.isnull(df.TR_FRAUD_DataStatusu)) \n",
    "            & (~ pd.isnull(df.loc[:,target_name])), col]\n",
    "df_filtered.shape\n",
    "\n",
    "df_filtered2 = df_filtered.dropna(axis = 0, how = 'any')\n",
    "print(df_filtered2.shape)\n",
    "\n",
    "#-- DecisionTreeClassifier nie przyjmuje zmiennych nienumerycznych oraz NaN/np.inf! Potrzebne jest wprowadzenie kodowania\n",
    "var_in_model      = ['KL_CZASPROWDZIALGOSP_L','TR_CI_PROC', 'PRZEDM_WIEK_KONIEC_UM','KL_DYNAM_OBROT','TR_OKRES','KL_WIEK_PESELDEC','KL_RENT_RB']\n",
    "var_text          = ['PRZEDM_asset_DPR','KL_BRANZA_OPIS', 'KL_FORMA_DZIAL']\n",
    "df_filtered2_dumm = pd.get_dummies(df_filtered2.loc[:,var_text], prefix='Categ', columns=var_text, drop_first = True, dummy_na = False) # drop_first - wyrzucamy pierwszy poziom; w macierzy jest n-1 wartoci\n",
    "print(df_filtered2_dumm.shape)\n",
    "df_filtered3 = pd.concat([df_filtered2.loc[:,df_filtered2.columns.isin(var_in_model)], df_filtered2_dumm], axis=1)\n",
    "y = df_filtered2.loc[:, target_name]\n",
    "\n",
    "print(df_filtered3.shape)"
   ]
  },
  {
   "cell_type": "markdown",
   "metadata": {},
   "source": [
    "Podział próby"
   ]
  },
  {
   "cell_type": "code",
   "execution_count": 32,
   "metadata": {
    "collapsed": true
   },
   "outputs": [],
   "source": [
    "from sklearn.model_selection import train_test_split\n",
    "df_filtered3_train, df_filtered3_test, y_train, y_test = train_test_split(df_filtered3, y, test_size = 0.4, random_state=111)\n"
   ]
  },
  {
   "cell_type": "code",
   "execution_count": 37,
   "metadata": {},
   "outputs": [],
   "source": [
    "\n",
    "#Decision Tree\n",
    "from sklearn.tree import DecisionTreeClassifier\n",
    "model_tree = DecisionTreeClassifier(max_depth=7, min_samples_leaf = 50, random_state = 111)\n",
    "\n",
    "#Fit the model:\n",
    "model_tree.fit(df_filtered3_train,y_train)\n",
    "\n",
    "#Make predictions on test & train set\n",
    "predictions_tree = model_tree.predict_proba(df_filtered3_test)\n",
    "fit_tree         = model_tree.predict_proba(df_filtered3_train)    \n",
    "    "
   ]
  },
  {
   "cell_type": "markdown",
   "metadata": {},
   "source": [
    "Ocena modelu"
   ]
  },
  {
   "cell_type": "code",
   "execution_count": 38,
   "metadata": {},
   "outputs": [
    {
     "name": "stdout",
     "output_type": "stream",
     "text": [
      "\n",
      " TRN sample: The value of AUC is 0.839.\n",
      "\n",
      " TST sample: The value of AUC is 0.729.\n"
     ]
    }
   ],
   "source": [
    "from sklearn.metrics import roc_curve\n",
    "from sklearn.metrics import auc\n",
    "import matplotlib.pyplot as plt\n",
    "#AUC\n",
    "false_positive_rate, true_positive_rate, thresholds = roc_curve(y_test, predictions_tree[:,1])\n",
    "auc_metric = auc(false_positive_rate, true_positive_rate)\n",
    "\n",
    "false_positive_rate, true_positive_rate, thresholds = roc_curve(y_train, fit_tree[:,1])\n",
    "auc_metric_fit = auc(false_positive_rate, true_positive_rate)\n",
    "\n",
    "print(\"\\n TRN sample: The value of AUC is %.3f.\" % auc_metric_fit)\n",
    "print(\"\\n TST sample: The value of AUC is %.3f.\" % auc_metric)\n"
   ]
  },
  {
   "cell_type": "markdown",
   "metadata": {},
   "source": [
    "Wizualizacja drzewa"
   ]
  },
  {
   "cell_type": "code",
   "execution_count": null,
   "metadata": {
    "collapsed": true
   },
   "outputs": [],
   "source": [
    "import graphviz \n",
    "dot_data = tree.export_graphviz(model_tree, out_file=None) \n",
    "graph = graphviz.Source(dot_data) \n",
    "graph.render(\"iris\") #??? \n",
    "\n",
    "dot_data = tree.export_graphviz(clf, out_file=None, \n",
    "                         feature_names=df_filtered3_train.feature_names,  \n",
    "                         class_names=df_filtered3_train.loc[:,target_name],  \n",
    "                         filled=True, rounded=True,  \n",
    "                         special_characters=True)  \n",
    "graph = graphviz.Source(dot_data)  \n",
    "graph "
   ]
  },
  {
   "cell_type": "markdown",
   "metadata": {},
   "source": [
    "# Wizualizacja"
   ]
  },
  {
   "cell_type": "code",
   "execution_count": 42,
   "metadata": {},
   "outputs": [
    {
     "ename": "ModuleNotFoundError",
     "evalue": "No module named 'pydotplus'",
     "output_type": "error",
     "traceback": [
      "\u001b[1;31m---------------------------------------------------------------------------\u001b[0m",
      "\u001b[1;31mModuleNotFoundError\u001b[0m                       Traceback (most recent call last)",
      "\u001b[1;32m<ipython-input-42-8d1f8e1173c4>\u001b[0m in \u001b[0;36m<module>\u001b[1;34m()\u001b[0m\n\u001b[0;32m     12\u001b[0m \u001b[1;32mfrom\u001b[0m \u001b[0mIPython\u001b[0m\u001b[1;33m.\u001b[0m\u001b[0mdisplay\u001b[0m \u001b[1;32mimport\u001b[0m \u001b[0mImage\u001b[0m\u001b[1;33m\u001b[0m\u001b[0m\n\u001b[0;32m     13\u001b[0m \u001b[1;32mfrom\u001b[0m \u001b[0msklearn\u001b[0m\u001b[1;33m.\u001b[0m\u001b[0mtree\u001b[0m \u001b[1;32mimport\u001b[0m \u001b[0mexport_graphviz\u001b[0m\u001b[1;33m\u001b[0m\u001b[0m\n\u001b[1;32m---> 14\u001b[1;33m \u001b[1;32mimport\u001b[0m \u001b[0mpydotplus\u001b[0m\u001b[1;33m\u001b[0m\u001b[0m\n\u001b[0m\u001b[0;32m     15\u001b[0m \u001b[1;33m\u001b[0m\u001b[0m\n\u001b[0;32m     16\u001b[0m \u001b[0mdot_data\u001b[0m \u001b[1;33m=\u001b[0m \u001b[0mStringIO\u001b[0m\u001b[1;33m(\u001b[0m\u001b[1;33m)\u001b[0m\u001b[1;33m\u001b[0m\u001b[0m\n",
      "\u001b[1;31mModuleNotFoundError\u001b[0m: No module named 'pydotplus'"
     ]
    }
   ],
   "source": [
    "import sklearn.datasets as datasets\n",
    "import pandas as pd\n",
    "iris=datasets.load_iris()\n",
    "df=pd.DataFrame(iris.data, columns=iris.feature_names)\n",
    "y=iris.target\n",
    "\n",
    "from sklearn.tree import DecisionTreeClassifier\n",
    "dtree=DecisionTreeClassifier()\n",
    "dtree.fit(df,y)\n",
    "\n",
    "from sklearn.externals.six import StringIO  \n",
    "from IPython.display import Image  \n",
    "from sklearn.tree import export_graphviz\n",
    "import pydotplus\n",
    "\n",
    "dot_data = StringIO()\n",
    "\n",
    "export_graphviz(dtree, out_file=dot_data,  \n",
    "                filled=True, rounded=True,\n",
    "                special_characters=True)\n",
    "\n",
    "graph = pydotplus.graph_from_dot_data(dot_data.getvalue())  \n",
    "Image(graph.create_png())"
   ]
  },
  {
   "cell_type": "code",
   "execution_count": null,
   "metadata": {
    "collapsed": true
   },
   "outputs": [],
   "source": []
  }
 ],
 "metadata": {
  "kernelspec": {
   "display_name": "Python 3",
   "language": "python",
   "name": "python3"
  },
  "language_info": {
   "codemirror_mode": {
    "name": "ipython",
    "version": 3
   },
   "file_extension": ".py",
   "mimetype": "text/x-python",
   "name": "python",
   "nbconvert_exporter": "python",
   "pygments_lexer": "ipython3",
   "version": "3.6.3"
  }
 },
 "nbformat": 4,
 "nbformat_minor": 2
}
