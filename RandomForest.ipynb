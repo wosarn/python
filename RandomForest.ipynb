{
 "cells": [
  {
   "cell_type": "markdown",
   "metadata": {
    "collapsed": true
   },
   "source": [
    "# Random Forest"
   ]
  },
  {
   "cell_type": "code",
   "execution_count": 1,
   "metadata": {
    "collapsed": true
   },
   "outputs": [],
   "source": [
    "import pandas as pd\n",
    "import numpy as np\n",
    "import pyodbc \n",
    "from patsy import dmatrices\n",
    "conn = pyodbc.connect(\"Driver={SQL Server Native Client 11.0};\"\n",
    "                      \"Server=LAPTOP-FLVDOFJN\\SQLEXPRESS;\"\n",
    "                      \"Database=DPR;\"\n",
    "                      \"Trusted_Connection=yes;\")\n",
    "\n",
    "sql = \"\"\"\n",
    "SELECT \n",
    "                                [umo].[umowa]\n",
    "                                ,[umo].[podumo]\n",
    "                                ,[umo].[oferta]\n",
    "                                ,[umo].[FFINRPFH_czy]\n",
    "                                ,[umo].[KLi_NIP]\n",
    "                                ,[umo].[KLi_NAZWASKR]\n",
    "                                ,[umo].[KLi_NAZWA]\n",
    "                                ,[umo].[PORECZYCIEL_CZY]\n",
    "                                ,[umo].[PORECZYCIEL_NIP]\n",
    "                                ,[umo].[TR_DTZAWC]\n",
    "                                ,[umo].[TR_DTZAWC_MC]\n",
    "                                ,[umo].[TR_DTZAWC_Q]\n",
    "                                ,[umo].[TR_DTZAWC_RokOkres]\n",
    "                                ,[umo].[TR_DTZAWC_H]\n",
    "                                ,[umo].[TR_DTZAWC_Y]\n",
    "                                ,[umo].[TR_D30M3]\n",
    "                                ,[umo].[TR_D60M3]\n",
    "                                ,[umo].[TR_D60M6]\n",
    "                                ,[umo].[TR_D60M12]\n",
    "                                ,[umo].[TR_D60M24]\n",
    "                                ,[umo].[TR_D60M36]\n",
    "                                ,[umo].[TR_D90M12]\n",
    "                                ,[umo].[TR_D90M24]\n",
    "                                ,[umo].[TR_D90M36]\n",
    "                                ,[umo].[TR_STATUS_UMOWY_BIEZ]\n",
    "                                ,[umo].[TR_POZIOM_wykonanie]\n",
    "                                ,[umo].[TR_POZIOM_estymator]\n",
    "                                ,[umo].[TR_ANEKS_dataZawarciaUmowyAneksowanej]\n",
    "                                ,[umo].[TR_ANEKS_dataZawarciaAneksu]\n",
    "                                ,[umo].[TR_ANEKS_dataPierwszejZmianyKlienta]\n",
    "                                ,[umo].[TR_ANEKS_RODZAJ_id]\n",
    "                                ,[umo].[TR_HANDLOWIEC_SIEC]\n",
    "                                ,[umo].[TR_DOSTAWCA_NIP]\n",
    "                                ,[umo].[TR_DOSTAWCA_KATEGORIA]\n",
    "                                ,[umo].[TR_DOSTAWCA_KLASYFIKACJA]\n",
    "                                ,[umo].[TR_DOSTAWCA_LSD]\n",
    "                                ,[umo].[TR_DOSTAWCA_LSD_MiU]\n",
    "                                ,[umo].[TR_DOSTAWCA_LSD_TRUCK]\n",
    "                                ,[umo].[TR_DOSTAWCA_LSD_OSD]\n",
    "                                ,[umo].[TR_TYP_LEASINGU]\n",
    "                                ,[umo].[TR_TYP_UMOWY]\n",
    "                                ,[umo].[TR_WARIANT]\n",
    "                                ,[umo].[TR_PROCEDURA]\n",
    "                                ,[umo].[TR_HARMONOGRAM]\n",
    "                                ,[umo].[TR_HARMONOGRAM_czy_odrocz]\n",
    "                                ,[umo].[TR_LEAS_ZWROTNY_CZY]\n",
    "                                ,[umo].[TR_OKRES]\n",
    "                                ,[umo].[TR_WO]\n",
    "                                ,[umo].[TR_IRR]\n",
    "                                ,[umo].[TR_WARTOSC_WYKUPU]\n",
    "                                ,[umo].[TR_WARTOSC_WYKUPU_UDZIAL_CI]\n",
    "                                ,[umo].[TR_WARTOSC_WYKUPU_UDZIAL_RAT]\n",
    "                                ,[umo].[TR_WARTOSC_WYKUPU_UDZIAL_KON]\n",
    "                                ,[umo].[TR_CI]\n",
    "                                ,[umo].[TR_CI_PROC]\n",
    "                                ,[umo].[TR_PD_2013]\n",
    "                                ,[umo].[TR_EL_2013]\n",
    "                                ,[umo].[KL_KAT_ZAW_2013]\n",
    "                                ,[umo].[KL_SCORING_2013]\n",
    "                                ,[umo].[PRZEDM_asset]\n",
    "                                ,[umo].[PRZEDM_asset_DPR]\n",
    "                                ,[umo].[PRZEDM_OPIS_PRZEDMIOTU]\n",
    "                                ,[umo].[PRZEDM_OPIS_PRZEDMIOTU_GRUPA]\n",
    "                                ,[umo].[PRZEDM_OPIS_PRZEDMIOTU_GRUPA2]\n",
    "                                ,[umo].[PRZEDM_ROKPROD]\n",
    "                                ,[umo].[PRZEDM_WIEK_URUCH]\n",
    "                                ,[umo].[PRZEDM_WIEK_KONIEC_UM]\n",
    "                                ,[umo].[PRZEDM_KLASA]\n",
    "                                ,[umo].[PRZEDM_LUX]\n",
    "                                ,[umo].[PRZEDM_PREMIUM]\n",
    "                                ,[umo].[PRZEDM_MARKA]\n",
    "                                ,[umo].[PRZEDM_MARKA_ID]\n",
    "                                ,[umo].[PRZEDM_MODEL]\n",
    "                                ,[umo].[PRZEDM_SEGMENT]\n",
    "                                ,[umo].[PRZEDM_STAWKA_AMORTYZACJI]\n",
    "                                ,[umo].[KL_KAT_ZAW_GRUPA]\n",
    "                                ,[umo].[KL_ZRODLO_DANYCH]\n",
    "                                ,[umo].[KL_PKD2007_MAP]\n",
    "                                ,[umo].[KLi_PKD2007_MAP]\n",
    "                                ,[umo].[KL_DZIALALNOSC_OPIS]\n",
    "                                ,[umo].[KL_DZIALALNOSC]\n",
    "                                ,[umo].[KL_nTSL]\n",
    "                                ,[umo].[KL_nBUD]\n",
    "                                ,[umo].[KL_nBUD_nTSL]\n",
    "                                ,[umo].[KL_nWZP]\n",
    "                                ,[umo].[KL_BRANZA_OPIS]\n",
    "                                ,[umo].[KL_BRANZA_OPIS_GRUPA]\n",
    "                                ,[umo].[KL_BRANZA_PREF_ZAW]\n",
    "                                ,[umo].[KL_BRANZA_PREF_BIEZ]\n",
    "                                ,[umo].[KL_TYP_DZIALALNOSCI]\n",
    "                                ,[umo].[KL_KLASA_PRZEWOZNIKA]\n",
    "                                ,[umo].[KL_DATAROZPDZIAL]\n",
    "                                ,[umo].[KL_CZASPROWDZIALGOSP_L]\n",
    "                                ,[umo].[KL_FORMA_DZIAL]\n",
    "                                ,[umo].[KL_STAN_CYWILNY]\n",
    "                                ,[umo].[KL_LICZBA_PRAC]\n",
    "                                ,[umo].[KL_WIEK_PESELDEC]\n",
    "                                ,[umo].[KL_DOCHOD_RB]\n",
    "                                ,[umo].[KL_DOCHOD_RU]\n",
    "                                ,[umo].[KL_DOCHOD_MC]\n",
    "                                ,[umo].[KL_DOCHOD_12M]\n",
    "                                ,[umo].[KL_OBROT_RB]\n",
    "                                ,[umo].[KL_OBROT_RU]\n",
    "                                ,[umo].[KL_OBROT_12M]\n",
    "                                ,[umo].[KL_OBROT_MAX]\n",
    "                                ,[umo].[KL_OBROT_MC]\n",
    "                                ,[umo].[KL_ZYSK_RU]\n",
    "                                ,[umo].[KL_LICZBA_MIES_RU]\n",
    "                                ,[umo].[KL_LICZBA_MIES_RB]\n",
    "                                ,[umo].[KL_FIN_RODZAJ_KSIEGOWOSCI_RU_id]\n",
    "                                ,[umo].[KL_FIN_RODZAJ_KSIEGOWOSCI_RB_id]\n",
    "                                ,[umo].[KL_FIN_TYP_DOK_RU_id]\n",
    "                                ,[umo].[KL_FIN_TYP_DOK_RB_id]\n",
    "                                ,[umo].[KL_FIN_RYCZALT_czy]\n",
    "                                ,[umo].[KL_RENT_RU]\n",
    "                                ,[umo].[KL_RENT_RB]\n",
    "                                ,[umo].[KL_RENT_MC]\n",
    "                                ,[umo].[KL_DYNAM_DOCHOD]\n",
    "                                ,[umo].[KL_DYNAM_OBROT]\n",
    "                                ,[wyk].[TR_Default_FirstDate30]\n",
    "                                ,[wyk].[TR_Default_FirstDate60]\n",
    "                                ,[wyk].[TR_Default_FirstDate90]\n",
    "                                ,[wyk].[TR_FRAUD_DataStatusu]\n",
    "                              FROM \n",
    "                                [DPR].[dbo].[mk_dane_umow] [umo]\n",
    "                                inner join\n",
    "                                [DPR].[dbo].[mk_SCORE_umowy_wykonanie] [wyk] on [umo].[umowa] = [wyk].[umowa]\n",
    "                              WHERE \n",
    "                                [TR_DTZAWC_RokOkres] >= 201101\n",
    "                                and [umo].[FFINRPFH_czy] = 1\n",
    "\"\"\"\n",
    "#df = pandas.io.sql.read_sql(sql, conn)\n",
    "df = pd.read_sql(sql, conn)\n",
    "conn.close()"
   ]
  },
  {
   "cell_type": "code",
   "execution_count": 2,
   "metadata": {},
   "outputs": [
    {
     "name": "stdout",
     "output_type": "stream",
     "text": [
      "(115350, 123)\n"
     ]
    }
   ],
   "source": [
    "print(df.shape)"
   ]
  },
  {
   "cell_type": "code",
   "execution_count": 57,
   "metadata": {},
   "outputs": [
    {
     "name": "stdout",
     "output_type": "stream",
     "text": [
      "<class 'pandas.core.frame.DataFrame'>\n",
      "(59611, 75)\n",
      "(59611, 34)\n",
      "(59611, 41)\n"
     ]
    }
   ],
   "source": [
    "path_var = 'E:\\\\Wojtek\\\\_DSCN_\\\\Analiza_danych\\\\Leas\\\\data_set\\\\'\n",
    "var_df = pd.read_csv(path_var+'variables.csv', sep=';')\n",
    "var_df.columns\n",
    "var_df.type_var.value_counts()\n",
    "var_df.head(10)\n",
    "var_df.type_pred.value_counts(dropna=False)\n",
    "print(type(var_df))\n",
    "\n",
    "\n",
    "#predictors = var_df.variable[ (var_df.type_var == 'pred') | (var_df.variable == target_name) ]\n",
    "predictors = var_df.variable[ var_df.type_var == 'pred' ]\n",
    "type(predictors)\n",
    "#type(list)(predictors)\n",
    "target_name = 'TR_D90M12'\n",
    "\n",
    "col = df.columns.isin(predictors)+df.columns.isin([target_name])  # to raczej nie jest eleganckie rozwiązanie\n",
    "\n",
    "df_filtered = df.loc[ (df.FFINRPFH_czy == 1) \n",
    "            & (df.TR_ANEKS_RODZAJ_id  == 0) \n",
    "            & (df.TR_POZIOM_wykonanie == 1)  \n",
    "            & (df.PORECZYCIEL_CZY == 0)\n",
    "            & (pd.isnull(df.TR_FRAUD_DataStatusu)) \n",
    "            & (~ pd.isnull(df.loc[:,target_name])), col]\n",
    "df_filtered.shape\n",
    "\n",
    "df_filtered2 = df_filtered.dropna(axis = 0, how = 'any')\n",
    "print(df_filtered2.shape)\n",
    "\n",
    "#-- RandomForestClassifier nie przyjmuje zmiennych nienumerycznych oraz NaN/np.inf! Potrzebne jest wprowadzenie kodowania\n",
    "var_in_model      = ['KL_CZASPROWDZIALGOSP_L','TR_CI_PROC', 'PRZEDM_WIEK_KONIEC_UM','KL_DYNAM_OBROT','TR_OKRES','KL_WIEK_PESELDEC','KL_RENT_RB']\n",
    "var_text          = ['PRZEDM_asset_DPR','KL_BRANZA_OPIS', 'KL_FORMA_DZIAL']\n",
    "df_filtered2_dumm = pd.get_dummies(df_filtered2.loc[:,var_text], prefix='Categ', columns=var_text, drop_first = True, dummy_na = False) # drop_first - wyrzucamy pierwszy poziom; w macierzy jest n-1 wartoci\n",
    "print(df_filtered2_dumm.shape)\n",
    "df_filtered3 = pd.concat([df_filtered2.loc[:,df_filtered2.columns.isin(var_in_model)], df_filtered2_dumm], axis=1)\n",
    "y = df_filtered2.loc[:, target_name]\n",
    "\n",
    "print(df_filtered3.shape)"
   ]
  },
  {
   "cell_type": "markdown",
   "metadata": {},
   "source": [
    "### Podział próby"
   ]
  },
  {
   "cell_type": "code",
   "execution_count": 58,
   "metadata": {
    "collapsed": true
   },
   "outputs": [],
   "source": [
    "from sklearn.model_selection import train_test_split\n",
    "df_filtered3_train, df_filtered3_test, y_train, y_test = train_test_split(df_filtered3, y, test_size = 0.4, random_state=111)\n"
   ]
  },
  {
   "cell_type": "code",
   "execution_count": 59,
   "metadata": {},
   "outputs": [
    {
     "name": "stderr",
     "output_type": "stream",
     "text": [
      "[Parallel(n_jobs=1)]: Done 200 out of 200 | elapsed:    7.0s finished\n",
      "[Parallel(n_jobs=1)]: Done 200 out of 200 | elapsed:    0.3s finished\n",
      "[Parallel(n_jobs=1)]: Done 200 out of 200 | elapsed:    0.5s finished\n"
     ]
    }
   ],
   "source": [
    "from sklearn.ensemble import RandomForestClassifier\n",
    "import math\n",
    "#model_rf = RandomForestClassifier(n_estimators=100, max_depth=7, criterion = 'entropy', max_features = math.sqrt(df_filtered3_train.shape[1]))\n",
    "model_rf = RandomForestClassifier(n_estimators=200, max_depth=6, \n",
    "                                  criterion = 'entropy', max_features = math.floor(df_filtered3_train.shape[1]/3),\n",
    "                                 random_state = 111,\n",
    "                                 min_samples_leaf = 60,\n",
    "                                 verbose=1)\n",
    "\n",
    "#criterion = 'entropy', 'gini'\n",
    "\n",
    "#Fit the model:\n",
    "model_rf.fit(df_filtered3_train,y_train)\n",
    "\n",
    "#Make predictions on test set\n",
    "predictions_rf = model_rf.predict_proba(df_filtered3_test)\n",
    "fit_rf = model_rf.predict_proba(df_filtered3_train)"
   ]
  },
  {
   "cell_type": "markdown",
   "metadata": {},
   "source": [
    "Ocena modelu"
   ]
  },
  {
   "cell_type": "code",
   "execution_count": 46,
   "metadata": {},
   "outputs": [
    {
     "name": "stdout",
     "output_type": "stream",
     "text": [
      "KL_CZASPROWDZIALGOSP_L                   0.204248\n",
      "TR_CI_PROC                               0.153707\n",
      "KL_DYNAM_OBROT                           0.146127\n",
      "PRZEDM_WIEK_KONIEC_UM                    0.115350\n",
      "KL_WIEK_PESELDEC                         0.072827\n",
      "KL_RENT_RB                               0.071716\n",
      "TR_OKRES                                 0.064085\n",
      "Categ_Spółka z o.o.                      0.037890\n",
      "Categ_OSD                                0.021352\n",
      "Categ_Budownictwo                        0.017940\n",
      "Categ_Prywatny_sekt_opieki_zdrowotnej    0.016653\n",
      "Categ_ME excl. YG                        0.012128\n",
      "Categ_Hotele_restauracje                 0.010943\n",
      "Categ_Spółka cywilna                     0.009801\n",
      "Categ_Spółka jawna                       0.009309\n",
      "Categ_TRUCK                              0.006458\n",
      "Categ_OF prow. działalność               0.005199\n",
      "Categ_Uslugi                             0.004574\n",
      "Categ_Wolne_zawody                       0.004008\n",
      "Categ_Transport                          0.003964\n",
      "Categ_Yellow Goods                       0.003222\n",
      "Categ_Pozostala_sprzed_detaliczna        0.001789\n",
      "Categ_Sprzed_detaliczna                  0.001628\n",
      "Categ_Przemysl                           0.001466\n",
      "Categ_Rolnictwo                          0.001078\n",
      "Categ_Sprzed_hurtowa                     0.000904\n",
      "Categ_Pozostala_sprzed_hurtowa           0.000520\n",
      "Categ_Spółka akcyjna                     0.000468\n",
      "Categ_Pozost_dzial_uslugowa              0.000412\n",
      "Categ_Przemysl_spozywczy                 0.000209\n",
      "Categ_Spółka komandytowa                 0.000029\n",
      "Categ_Stowarzyszenie                     0.000000\n",
      "Categ_bd                                 0.000000\n",
      "Categ_Inne osoby prawne                  0.000000\n",
      "Categ_Osoba fizyczna                     0.000000\n",
      "Categ_Przeds. panstwowe                  0.000000\n",
      "Categ_Rolnik indywidualny                0.000000\n",
      "Categ_Sp. komandytowo-akc.               0.000000\n",
      "Categ_Spółdzielnia                       0.000000\n",
      "Categ_Spółka partnerska                  0.000000\n",
      "Categ_Zakład budżetowy                   0.000000\n",
      "dtype: float64\n",
      "\n",
      " TRN sample: The value of AUC is 0.878.\n",
      "\n",
      " TST sample: The value of AUC is 0.803.\n"
     ]
    },
    {
     "data": {
      "image/png": "[encoded data removed]",
      "text/plain": [
       "<matplotlib.figure.Figure at 0x25bdd718080>"
      ]
     },
     "metadata": {},
     "output_type": "display_data"
    }
   ],
   "source": [
    "from sklearn.metrics import roc_curve\n",
    "from sklearn.metrics import auc\n",
    "import matplotlib.pyplot as plt\n",
    "#AUC\n",
    "false_positive_rate, true_positive_rate, thresholds = roc_curve(y_test, predictions_rf[:,1])\n",
    "auc_metric = auc(false_positive_rate, true_positive_rate)\n",
    "\n",
    "false_positive_rate, true_positive_rate, thresholds = roc_curve(y_train, fit_rf[:,1])\n",
    "auc_metric_fit = auc(false_positive_rate, true_positive_rate)\n",
    "\n",
    "#Variable Importance\n",
    "importances = pd.Series(model_rf.feature_importances_, index=df_filtered3_train.columns).sort_values(ascending=False)\n",
    "print(importances)\n",
    "print(\"\\n TRN sample: The value of AUC is %.3f.\" % auc_metric_fit)\n",
    "print(\"\\n TST sample: The value of AUC is %.3f.\" % auc_metric)\n",
    "plt.figure(figsize = (10,7))\n",
    "importances.plot.bar()\n",
    "plt.show()"
   ]
  },
  {
   "cell_type": "markdown",
   "metadata": {},
   "source": [
    "Tunning parametrów z wykorzytaniem CV"
   ]
  },
  {
   "cell_type": "code",
   "execution_count": 51,
   "metadata": {},
   "outputs": [
    {
     "name": "stdout",
     "output_type": "stream",
     "text": [
      "{'max_depth': 6, 'max_features': 3, 'n_estimators': 100}\n",
      "RandomForestClassifier(bootstrap=True, class_weight=None, criterion='gini',\n",
      "            max_depth=6, max_features=3, max_leaf_nodes=None,\n",
      "            min_impurity_decrease=0.0, min_impurity_split=None,\n",
      "            min_samples_leaf=1, min_samples_split=2,\n",
      "            min_weight_fraction_leaf=0.0, n_estimators=100, n_jobs=1,\n",
      "            oob_score=False, random_state=None, verbose=0,\n",
      "            warm_start=False)\n",
      "0.810755495419\n"
     ]
    },
    {
     "name": "stderr",
     "output_type": "stream",
     "text": [
      "C:\\Users\\Wojtek\\Anaconda3\\lib\\site-packages\\sklearn\\model_selection\\_search.py:761: DeprecationWarning: The grid_scores_ attribute was deprecated in version 0.18 in favor of the more elaborate cv_results_ attribute. The grid_scores_ attribute will not be available from 0.20\n",
      "  DeprecationWarning)\n"
     ]
    }
   ],
   "source": [
    "from sklearn.model_selection import GridSearchCV\n",
    "rf = RandomForestClassifier()\n",
    "\n",
    "param_grid = { \n",
    "    'n_estimators': [50, 100],\n",
    "    'max_features': ['sqrt', 3,13],\n",
    "    'max_depth': [3, 6]\n",
    "}\n",
    "\n",
    "CV_rfc = GridSearchCV(estimator=rf , param_grid=param_grid, cv= 3, scoring='roc_auc')\n",
    "CV_rfc.fit(df_filtered3_train,y_train)\n",
    "\n",
    "#Parameters with Scores\n",
    "CV_rfc.grid_scores_\n",
    "\n",
    "#Best Parameters\n",
    "print(CV_rfc.best_params_)\n",
    "print( CV_rfc.best_estimator_)\n",
    "\n",
    "#Make predictions on test set\n",
    "predictions_rf = CV_rfc.predict_proba(df_filtered3_test)\n",
    "\n",
    "#AUC\n",
    "false_positive_rate, true_positive_rate, thresholds = roc_curve(y_test, predictions_rf[:,1])\n",
    "auc_metric = auc(false_positive_rate, true_positive_rate)\n",
    "print(auc_metric)"
   ]
  },
  {
   "cell_type": "code",
   "execution_count": null,
   "metadata": {
    "collapsed": true
   },
   "outputs": [],
   "source": []
  }
 ],
 "metadata": {
  "kernelspec": {
   "display_name": "Python 3",
   "language": "python",
   "name": "python3"
  },
  "language_info": {
   "codemirror_mode": {
    "name": "ipython",
    "version": 3
   },
   "file_extension": ".py",
   "mimetype": "text/x-python",
   "name": "python",
   "nbconvert_exporter": "python",
   "pygments_lexer": "ipython3",
   "version": "3.6.3"
  }
 },
 "nbformat": 4,
 "nbformat_minor": 2
}
