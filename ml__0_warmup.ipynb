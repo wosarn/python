{
 "cells": [
  {
   "cell_type": "markdown",
   "metadata": {},
   "source": [
    "![](http://sigdelta.com/assets/images/sages-sd-logo.png)\n",
    "\n",
    "# Analiza danych i uczenie maszynowe w Python\n",
    "\n",
    "Autor notebooka: Jakub Nowacki.\n",
    "\n",
    "## Rozgrzewka\n",
    "\n",
    "Przyjrzyj się poniższemu zbiorowi danych i wykonaj zadania. "
   ]
  },
  {
   "cell_type": "code",
   "execution_count": 1,
   "metadata": {
    "collapsed": true
   },
   "outputs": [],
   "source": [
    "from sklearn import datasets\n",
    "import pandas as pd\n",
    "%matplotlib inline"
   ]
  },
  {
   "cell_type": "code",
   "execution_count": 2,
   "metadata": {},
   "outputs": [
    {
     "name": "stderr",
     "output_type": "stream",
     "text": [
      "Downloading Cal. housing from https://ndownloader.figshare.com/files/5976036 to C:\\Users\\Wojtek\\scikit_learn_data\n"
     ]
    },
    {
     "name": "stdout",
     "output_type": "stream",
     "text": [
      "California housing dataset.\n",
      "\n",
      "The original database is available from StatLib\n",
      "\n",
      "    http://lib.stat.cmu.edu/datasets/\n",
      "\n",
      "The data contains 20,640 observations on 9 variables.\n",
      "\n",
      "This dataset contains the average house value as target variable\n",
      "and the following input variables (features): average income,\n",
      "housing average age, average rooms, average bedrooms, population,\n",
      "average occupation, latitude, and longitude in that order.\n",
      "\n",
      "References\n",
      "----------\n",
      "\n",
      "Pace, R. Kelley and Ronald Barry, Sparse Spatial Autoregressions,\n",
      "Statistics and Probability Letters, 33 (1997) 291-297.\n",
      "\n",
      "\n"
     ]
    }
   ],
   "source": [
    "cal = datasets.fetch_california_housing()\n",
    "print(cal.DESCR)"
   ]
  },
  {
   "cell_type": "code",
   "execution_count": null,
   "metadata": {
    "collapsed": true
   },
   "outputs": [],
   "source": [
    "cal.data"
   ]
  },
  {
   "cell_type": "code",
   "execution_count": 23,
   "metadata": {},
   "outputs": [
    {
     "data": {
      "text/plain": [
       "['MedInc',\n",
       " 'HouseAge',\n",
       " 'AveRooms',\n",
       " 'AveBedrms',\n",
       " 'Population',\n",
       " 'AveOccup',\n",
       " 'Latitude',\n",
       " 'Longitude']"
      ]
     },
     "execution_count": 23,
     "metadata": {},
     "output_type": "execute_result"
    }
   ],
   "source": [
    "cal.feature_names"
   ]
  },
  {
   "cell_type": "code",
   "execution_count": 6,
   "metadata": {},
   "outputs": [
    {
     "data": {
      "text/plain": [
       "array([4.526, 3.585, 3.521, ..., 0.923, 0.847, 0.894])"
      ]
     },
     "execution_count": 6,
     "metadata": {},
     "output_type": "execute_result"
    }
   ],
   "source": [
    "cal.target"
   ]
  },
  {
   "cell_type": "markdown",
   "metadata": {},
   "source": [
    "## Zadania\n",
    "\n",
    "1. Z danych domów z Kaliforni załadowanych z scikit-learn, zrób DataFrame Pandas; pamiętaj o dodaniu kolumny Price (z target).\n",
    "1. Policz podstawowe statystyki opisujące kolumny.\n",
    "1. Podaj średnią ilość sypialni dla domów o cenie powyżej 2 (-stutysięcy) dolarów.\n",
    "1. Jaka jest mediana ceny domów których ilość pokoi jest większa od średniej?\n",
    "1. Czy wiekość populacji i średnia ilość mieszkańców domów są skorelowane; (★) narysuj heatmapę.\n",
    "1. Narysuj histogram wieku domów; ile kubełków warto ustawić, żeby coś było widać?\n",
    "1. (★) Narysuj na mapie położenie domów. "
   ]
  },
  {
   "cell_type": "code",
   "execution_count": 41,
   "metadata": {},
   "outputs": [
    {
     "data": {
      "image/png": "[encoded data removed]",
      "text/plain": [
       "<Figure size 432x288 with 1 Axes>"
      ]
     },
     "metadata": {},
     "output_type": "display_data"
    }
   ],
   "source": [
    "california=pd.DataFrame(cal.data , columns=cal.feature_names)\n",
    "#.assign(Price=cal.target)\n",
    "#.assign(Price2=lambda df: df.Price*2)\n",
    "\n",
    "\n",
    "\n",
    "california['Price']=cal.target\n",
    "#california['Price2']=california['Price']*2\n",
    "\n",
    "california.describe\n",
    "#data.groupby(['col1', 'col2'])['col3'].sum()\n",
    "\n",
    "m=california['Price']>2\n",
    "#california[m]['AveBedrms']\n",
    "california.loc[m, 'AveBedrms'].mean()\n",
    "\n",
    "n=california['AveBedrms']>california['AveBedrms'].mean()\n",
    "california=pd.DataFrame(cal.data , columns=cal.feature_names)\n",
    "#.assign(Price=cal.target)\n",
    "#.assign(Price2=lambda df: df.Price*2)\n",
    "\n",
    "\n",
    "\n",
    "california['Price']=cal.target\n",
    "#california['Price2']=california['Price']*2\n",
    "\n",
    "california.describe\n",
    "#data.groupby(['col1', 'col2'])['col3'].sum()\n",
    "\n",
    "m=california['Price']>2\n",
    "#california[m]['AveBedrms']\n",
    "california.loc[m, 'AveBedrms'].mean()\n",
    "\n",
    "\n",
    "n=california['AveRooms']>california['AveRooms'].mean()\n",
    "california.loc[n, 'Price'].median()\n",
    "\n",
    "california[california.AveRooms>california.AveRooms.mean()].Price.median()\n",
    "\n",
    "california.corr()\n",
    "california[['Population','AveOccup']].corr()\n",
    "\n",
    "import seaborn as sns\n",
    "import matplotlib\n",
    "\n",
    "#p=sns.heatmap(california.corr()); \n",
    "#p.set_title(\"ala ma kota\");\n",
    "\n",
    "#t=p.set_title(\"ala ma kota\");\n",
    "#t.set_text(\"Kot2\")\n",
    "\n",
    "\n",
    "california.HouseAge.plot.hist(bins=50); #domyslnie bins=10\n",
    "\n",
    "import matplotlib.pyplot as plt\n",
    "frm mpl_toolkits.basemap import Basemap\n",
    "\n",
    "flg=plt.figure(figsize=(12,12))\n",
    "m=Basemap(projection='lcc', resolution='h',\n",
    "         lat_0=37.5, lon0=-119,\n",
    "         )\n",
    "\n"
   ]
  },
  {
   "cell_type": "code",
   "execution_count": null,
   "metadata": {
    "collapsed": true
   },
   "outputs": [],
   "source": []
  }
 ],
 "metadata": {
  "kernelspec": {
   "display_name": "Python 3",
   "language": "python",
   "name": "python3"
  },
  "language_info": {
   "codemirror_mode": {
    "name": "ipython",
    "version": 3
   },
   "file_extension": ".py",
   "mimetype": "text/x-python",
   "name": "python",
   "nbconvert_exporter": "python",
   "pygments_lexer": "ipython3",
   "version": "3.6.3"
  }
 },
 "nbformat": 4,
 "nbformat_minor": 2
}
