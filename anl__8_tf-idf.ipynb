{
 "cells": [
  {
   "cell_type": "markdown",
   "metadata": {},
   "source": [
    "![](http://sigdelta.com/assets/images/sages-sd-logo.png)\n",
    "\n",
    "# Analiza danych i uczenie maszynowe w Python\n",
    "\n",
    "Autor notebooka: Jakub Nowacki.\n",
    "\n",
    "## TF-IDF\n",
    "\n",
    "[Term Frequency–Inverse Document Frequency (TF-IDF)](https://en.wikipedia.org/wiki/Tf%E2%80%93idf) jest popularnym algorytmem do analizy danych tekstowych, używany dość często w pozyskiwaniu danych (data mining).\n",
    "\n",
    "Pierwszym elementem algorytmu jest komponent Term Frequency, czyli częstość wystąpień terminów dla danego dokumentu. Definiowany jest on wzorem:\n",
    "\n",
    "$$\n",
    "TF = \\frac{n_w}{n_d},\n",
    "$$\n",
    "\n",
    "gdzie: $n_w$ - liczba danego słowa/terminu, $n_d$ - liczba słów/terminów w dokumencie. \n",
    "\n",
    "Drugi element to Inverse Document Frequency, który pokazuje jak charakterystyczny jest dany termin dla dokumentu. Obliczany jest on za pomocą następującego wzoru:\n",
    "\n",
    "$$\n",
    "IDF = \\log \\left( \\frac{c_d}{i_d} \\right),\n",
    "$$\n",
    "\n",
    "gdzie: $c_d$ - liczba wszystkich dokunemtów, $i_d$ - liczba dokumentów zawierających dane słowo."
   ]
  },
  {
   "cell_type": "code",
   "execution_count": null,
   "metadata": {
    "collapsed": true
   },
   "outputs": [],
   "source": [
    "%matplotlib inline\n",
    "import pandas as pd\n",
    "import numpy as np\n",
    "import os\n",
    "import glob\n",
    "import matplotlib as mpl\n",
    "\n",
    "# Parametry wykresów\n",
    "mpl.style.use('ggplot')\n",
    "mpl.rcParams['figure.figsize'] = (8,6)\n",
    "mpl.rcParams['font.size'] = 12"
   ]
  },
  {
   "cell_type": "code",
   "execution_count": null,
   "metadata": {},
   "outputs": [],
   "source": [
    "books = glob.glob('data/books/*.txt')\n",
    "d = list()\n",
    "for book_file in books:\n",
    "    with open(book_file, encoding='utf-8') as f:\n",
    "        book = os.path.basename(book_file.split('.')[0])\n",
    "        d.append(pd.DataFrame({'book': book, 'lines': f.readlines()}))\n",
    "doc = pd.concat(d)\n",
    "doc.head()"
   ]
  },
  {
   "cell_type": "code",
   "execution_count": null,
   "metadata": {},
   "outputs": [],
   "source": [
    "doc.groupby('book').count()"
   ]
  },
  {
   "cell_type": "code",
   "execution_count": null,
   "metadata": {},
   "outputs": [],
   "source": [
    "doc.groupby('book').count().plot.barh();"
   ]
  },
  {
   "cell_type": "markdown",
   "metadata": {},
   "source": [
    "### Zadanie\n",
    "\n",
    "1. Używając Pandas (i narzędzi Python) obliczyć TF-IDF dla książek.\n",
    "    1. Policz TF\n",
    "    1. Policz IDF\n",
    "    1. Połącz oba wyniki.\n",
    "1. Co może wpłynąć na wynik?\n",
    "1. ★ Wypisz 10 charakterystycznych słów (z najwyższym TF-IDF) dla każdej ksiązki."
   ]
  }
 ],
 "metadata": {
  "kernelspec": {
   "display_name": "Python 3",
   "language": "python",
   "name": "python3"
  },
  "language_info": {
   "codemirror_mode": {
    "name": "ipython",
    "version": 3
   },
   "file_extension": ".py",
   "mimetype": "text/x-python",
   "name": "python",
   "nbconvert_exporter": "python",
   "pygments_lexer": "ipython3",
   "version": "3.6.3"
  }
 },
 "nbformat": 4,
 "nbformat_minor": 2
}
