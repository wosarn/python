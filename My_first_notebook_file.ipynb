{
 "cells": [
  {
   "cell_type": "code",
   "execution_count": 3,
   "metadata": {
    "collapsed": true
   },
   "outputs": [],
   "source": [
    "from iv import iv\n",
    "from vba import vba\n",
    "from var_category import get_var_category"
   ]
  },
  {
   "cell_type": "code",
   "execution_count": 4,
   "metadata": {},
   "outputs": [
    {
     "data": {
      "text/plain": [
       "<function var_category.get_var_category>"
      ]
     },
     "execution_count": 4,
     "metadata": {},
     "output_type": "execute_result"
    }
   ],
   "source": [
    "get_var_category"
   ]
  },
  {
   "cell_type": "code",
   "execution_count": 3,
   "metadata": {
    "collapsed": true
   },
   "outputs": [],
   "source": [
    "\n",
    "import pandas as pd\n",
    "import numpy as np\n",
    "import pyodbc \n",
    "from patsy import dmatrices\n",
    "conn = pyodbc.connect(\"Driver={SQL Server Native Client 11.0};\"\n",
    "                      \"Server=LAPTOP-FLVDOFJN\\SQLEXPRESS;\"\n",
    "                      \"Database=DPR;\"\n",
    "                      \"Trusted_Connection=yes;\")\n",
    "\n",
    "sql = \"\"\"\n",
    "SELECT \n",
    "                                [umo].[umowa]\n",
    "                                ,[umo].[podumo]\n",
    "                                ,[umo].[oferta]\n",
    "                                ,[umo].[FFINRPFH_czy]\n",
    "                                ,[umo].[KLi_NIP]\n",
    "                                ,[umo].[KLi_NAZWASKR]\n",
    "                                ,[umo].[KLi_NAZWA]\n",
    "                                ,[umo].[PORECZYCIEL_CZY]\n",
    "                                ,[umo].[PORECZYCIEL_NIP]\n",
    "                                ,[umo].[TR_DTZAWC]\n",
    "                                ,[umo].[TR_DTZAWC_MC]\n",
    "                                ,[umo].[TR_DTZAWC_Q]\n",
    "                                ,[umo].[TR_DTZAWC_RokOkres]\n",
    "                                ,[umo].[TR_DTZAWC_H]\n",
    "                                ,[umo].[TR_DTZAWC_Y]\n",
    "                                ,[umo].[TR_D30M3]\n",
    "                                ,[umo].[TR_D60M3]\n",
    "                                ,[umo].[TR_D60M6]\n",
    "                                ,[umo].[TR_D60M12]\n",
    "                                ,[umo].[TR_D60M24]\n",
    "                                ,[umo].[TR_D60M36]\n",
    "                                ,[umo].[TR_D90M12]\n",
    "                                ,[umo].[TR_D90M24]\n",
    "                                ,[umo].[TR_D90M36]\n",
    "                                ,[umo].[TR_STATUS_UMOWY_BIEZ]\n",
    "                                ,[umo].[TR_POZIOM_wykonanie]\n",
    "                                ,[umo].[TR_POZIOM_estymator]\n",
    "                                ,[umo].[TR_ANEKS_dataZawarciaUmowyAneksowanej]\n",
    "                                ,[umo].[TR_ANEKS_dataZawarciaAneksu]\n",
    "                                ,[umo].[TR_ANEKS_dataPierwszejZmianyKlienta]\n",
    "                                ,[umo].[TR_ANEKS_RODZAJ_id]\n",
    "                                ,[umo].[TR_HANDLOWIEC_SIEC]\n",
    "                                ,[umo].[TR_DOSTAWCA_NIP]\n",
    "                                ,[umo].[TR_DOSTAWCA_KATEGORIA]\n",
    "                                ,[umo].[TR_DOSTAWCA_KLASYFIKACJA]\n",
    "                                ,[umo].[TR_DOSTAWCA_LSD]\n",
    "                                ,[umo].[TR_DOSTAWCA_LSD_MiU]\n",
    "                                ,[umo].[TR_DOSTAWCA_LSD_TRUCK]\n",
    "                                ,[umo].[TR_DOSTAWCA_LSD_OSD]\n",
    "                                ,[umo].[TR_TYP_LEASINGU]\n",
    "                                ,[umo].[TR_TYP_UMOWY]\n",
    "                                ,[umo].[TR_WARIANT]\n",
    "                                ,[umo].[TR_PROCEDURA]\n",
    "                                ,[umo].[TR_HARMONOGRAM]\n",
    "                                ,[umo].[TR_HARMONOGRAM_czy_odrocz]\n",
    "                                ,[umo].[TR_LEAS_ZWROTNY_CZY]\n",
    "                                ,[umo].[TR_OKRES]\n",
    "                                ,[umo].[TR_WO]\n",
    "                                ,[umo].[TR_IRR]\n",
    "                                ,[umo].[TR_WARTOSC_WYKUPU]\n",
    "                                ,[umo].[TR_WARTOSC_WYKUPU_UDZIAL_CI]\n",
    "                                ,[umo].[TR_WARTOSC_WYKUPU_UDZIAL_RAT]\n",
    "                                ,[umo].[TR_WARTOSC_WYKUPU_UDZIAL_KON]\n",
    "                                ,[umo].[TR_CI]\n",
    "                                ,[umo].[TR_CI_PROC]\n",
    "                                ,[umo].[TR_PD_2013]\n",
    "                                ,[umo].[TR_EL_2013]\n",
    "                                ,[umo].[KL_KAT_ZAW_2013]\n",
    "                                ,[umo].[KL_SCORING_2013]\n",
    "                                ,[umo].[PRZEDM_asset]\n",
    "                                ,[umo].[PRZEDM_asset_DPR]\n",
    "                                ,[umo].[PRZEDM_OPIS_PRZEDMIOTU]\n",
    "                                ,[umo].[PRZEDM_OPIS_PRZEDMIOTU_GRUPA]\n",
    "                                ,[umo].[PRZEDM_OPIS_PRZEDMIOTU_GRUPA2]\n",
    "                                ,[umo].[PRZEDM_ROKPROD]\n",
    "                                ,[umo].[PRZEDM_WIEK_URUCH]\n",
    "                                ,[umo].[PRZEDM_WIEK_KONIEC_UM]\n",
    "                                ,[umo].[PRZEDM_KLASA]\n",
    "                                ,[umo].[PRZEDM_LUX]\n",
    "                                ,[umo].[PRZEDM_PREMIUM]\n",
    "                                ,[umo].[PRZEDM_MARKA]\n",
    "                                ,[umo].[PRZEDM_MARKA_ID]\n",
    "                                ,[umo].[PRZEDM_MODEL]\n",
    "                                ,[umo].[PRZEDM_SEGMENT]\n",
    "                                ,[umo].[PRZEDM_STAWKA_AMORTYZACJI]\n",
    "                                ,[umo].[KL_KAT_ZAW_GRUPA]\n",
    "                                ,[umo].[KL_ZRODLO_DANYCH]\n",
    "                                ,[umo].[KL_PKD2007_MAP]\n",
    "                                ,[umo].[KLi_PKD2007_MAP]\n",
    "                                ,[umo].[KL_DZIALALNOSC_OPIS]\n",
    "                                ,[umo].[KL_DZIALALNOSC]\n",
    "                                ,[umo].[KL_nTSL]\n",
    "                                ,[umo].[KL_nBUD]\n",
    "                                ,[umo].[KL_nBUD_nTSL]\n",
    "                                ,[umo].[KL_nWZP]\n",
    "                                ,[umo].[KL_BRANZA_OPIS]\n",
    "                                ,[umo].[KL_BRANZA_OPIS_GRUPA]\n",
    "                                ,[umo].[KL_BRANZA_PREF_ZAW]\n",
    "                                ,[umo].[KL_BRANZA_PREF_BIEZ]\n",
    "                                ,[umo].[KL_TYP_DZIALALNOSCI]\n",
    "                                ,[umo].[KL_KLASA_PRZEWOZNIKA]\n",
    "                                ,[umo].[KL_DATAROZPDZIAL]\n",
    "                                ,[umo].[KL_CZASPROWDZIALGOSP_L]\n",
    "                                ,[umo].[KL_FORMA_DZIAL]\n",
    "                                ,[umo].[KL_STAN_CYWILNY]\n",
    "                                ,[umo].[KL_LICZBA_PRAC]\n",
    "                                ,[umo].[KL_WIEK_PESELDEC]\n",
    "                                ,[umo].[KL_DOCHOD_RB]\n",
    "                                ,[umo].[KL_DOCHOD_RU]\n",
    "                                ,[umo].[KL_DOCHOD_MC]\n",
    "                                ,[umo].[KL_DOCHOD_12M]\n",
    "                                ,[umo].[KL_OBROT_RB]\n",
    "                                ,[umo].[KL_OBROT_RU]\n",
    "                                ,[umo].[KL_OBROT_12M]\n",
    "                                ,[umo].[KL_OBROT_MAX]\n",
    "                                ,[umo].[KL_OBROT_MC]\n",
    "                                ,[umo].[KL_ZYSK_RU]\n",
    "                                ,[umo].[KL_LICZBA_MIES_RU]\n",
    "                                ,[umo].[KL_LICZBA_MIES_RB]\n",
    "                                ,[umo].[KL_FIN_RODZAJ_KSIEGOWOSCI_RU_id]\n",
    "                                ,[umo].[KL_FIN_RODZAJ_KSIEGOWOSCI_RB_id]\n",
    "                                ,[umo].[KL_FIN_TYP_DOK_RU_id]\n",
    "                                ,[umo].[KL_FIN_TYP_DOK_RB_id]\n",
    "                                ,[umo].[KL_FIN_RYCZALT_czy]\n",
    "                                ,[umo].[KL_RENT_RU]\n",
    "                                ,[umo].[KL_RENT_RB]\n",
    "                                ,[umo].[KL_RENT_MC]\n",
    "                                ,[umo].[KL_DYNAM_DOCHOD]\n",
    "                                ,[umo].[KL_DYNAM_OBROT]\n",
    "                                ,[wyk].[TR_Default_FirstDate30]\n",
    "                                ,[wyk].[TR_Default_FirstDate60]\n",
    "                                ,[wyk].[TR_Default_FirstDate90]\n",
    "                                ,[wyk].[TR_FRAUD_DataStatusu]\n",
    "                              FROM \n",
    "                                [DPR].[dbo].[mk_dane_umow] [umo]\n",
    "                                inner join\n",
    "                                [DPR].[dbo].[mk_SCORE_umowy_wykonanie] [wyk] on [umo].[umowa] = [wyk].[umowa]\n",
    "                              WHERE \n",
    "                                [TR_DTZAWC_RokOkres] >= 201101\n",
    "                                and [umo].[FFINRPFH_czy] = 1\n",
    "\"\"\"\n",
    "#df = pandas.io.sql.read_sql(sql, conn)\n",
    "df = pd.read_sql(sql, conn)\n",
    "conn.close()"
   ]
  },
  {
   "cell_type": "code",
   "execution_count": 4,
   "metadata": {},
   "outputs": [
    {
     "data": {
      "text/plain": [
       "(115350, 123)"
      ]
     },
     "execution_count": 4,
     "metadata": {},
     "output_type": "execute_result"
    }
   ],
   "source": [
    "df.shape"
   ]
  },
  {
   "cell_type": "code",
   "execution_count": 5,
   "metadata": {},
   "outputs": [
    {
     "data": {
      "text/plain": [
       "'C:\\\\Users\\\\Wojtek\\\\Untitled Folder'"
      ]
     },
     "execution_count": 5,
     "metadata": {},
     "output_type": "execute_result"
    }
   ],
   "source": [
    "pwd"
   ]
  },
  {
   "cell_type": "markdown",
   "metadata": {},
   "source": [
    "# My first python file"
   ]
  },
  {
   "cell_type": "code",
   "execution_count": 5,
   "metadata": {
    "collapsed": true
   },
   "outputs": [],
   "source": [
    "target_name = 'TR_D90M12'\n",
    "data_frame = df[ (df.FFINRPFH_czy == 1) \n",
    "            & (df.TR_ANEKS_RODZAJ_id  == 0) \n",
    "            & (df.TR_POZIOM_wykonanie == 1)  \n",
    "            & (df.PORECZYCIEL_CZY == 0)\n",
    "            & (pd.isnull(df.TR_FRAUD_DataStatusu)) \n",
    "            & (~pd.isnull(df.loc[:,target_name]))]\n",
    "\n",
    "\n",
    "ind_target = data_frame.columns.get_loc(target_name)\n",
    "col_list = [93,89,94,60,37]\n",
    "\n",
    "iv_summary = iv(data_frame = data_frame, ind_target = ind_target, col_list = [93,89,94,60,37] )"
   ]
  },
  {
   "cell_type": "code",
   "execution_count": 6,
   "metadata": {},
   "outputs": [
    {
     "data": {
      "text/html": [
       "<div>\n",
       "<style>\n",
       "    .dataframe thead tr:only-child th {\n",
       "        text-align: right;\n",
       "    }\n",
       "\n",
       "    .dataframe thead th {\n",
       "        text-align: left;\n",
       "    }\n",
       "\n",
       "    .dataframe tbody tr th {\n",
       "        vertical-align: top;\n",
       "    }\n",
       "</style>\n",
       "<table border=\"1\" class=\"dataframe\">\n",
       "  <thead>\n",
       "    <tr style=\"text-align: right;\">\n",
       "      <th></th>\n",
       "      <th>Variable</th>\n",
       "      <th>IV</th>\n",
       "    </tr>\n",
       "  </thead>\n",
       "  <tbody>\n",
       "    <tr>\n",
       "      <th>0</th>\n",
       "      <td>KL_FORMA_DZIAL</td>\n",
       "      <td>None</td>\n",
       "    </tr>\n",
       "    <tr>\n",
       "      <th>1</th>\n",
       "      <td>KL_TYP_DZIALALNOSCI</td>\n",
       "      <td>0.0285464</td>\n",
       "    </tr>\n",
       "    <tr>\n",
       "      <th>2</th>\n",
       "      <td>KL_STAN_CYWILNY</td>\n",
       "      <td>0.11695</td>\n",
       "    </tr>\n",
       "    <tr>\n",
       "      <th>3</th>\n",
       "      <td>PRZEDM_asset_DPR</td>\n",
       "      <td>0.12736</td>\n",
       "    </tr>\n",
       "    <tr>\n",
       "      <th>4</th>\n",
       "      <td>TR_DOSTAWCA_LSD_TRUCK</td>\n",
       "      <td>0.00917381</td>\n",
       "    </tr>\n",
       "  </tbody>\n",
       "</table>\n",
       "</div>"
      ],
      "text/plain": [
       "                Variable          IV\n",
       "0         KL_FORMA_DZIAL        None\n",
       "1    KL_TYP_DZIALALNOSCI   0.0285464\n",
       "2        KL_STAN_CYWILNY     0.11695\n",
       "3       PRZEDM_asset_DPR     0.12736\n",
       "4  TR_DOSTAWCA_LSD_TRUCK  0.00917381"
      ]
     },
     "execution_count": 6,
     "metadata": {},
     "output_type": "execute_result"
    }
   ],
   "source": [
    "iv_summary"
   ]
  },
  {
   "cell_type": "code",
   "execution_count": 1,
   "metadata": {},
   "outputs": [
    {
     "ename": "NameError",
     "evalue": "name 'gwd' is not defined",
     "output_type": "error",
     "traceback": [
      "\u001b[1;31m---------------------------------------------------------------------------\u001b[0m",
      "\u001b[1;31mNameError\u001b[0m                                 Traceback (most recent call last)",
      "\u001b[1;32m<ipython-input-1-1d81d4d730ab>\u001b[0m in \u001b[0;36m<module>\u001b[1;34m()\u001b[0m\n\u001b[1;32m----> 1\u001b[1;33m \u001b[0mgwd\u001b[0m\u001b[1;33m(\u001b[0m\u001b[1;33m)\u001b[0m\u001b[1;33m\u001b[0m\u001b[0m\n\u001b[0m",
      "\u001b[1;31mNameError\u001b[0m: name 'gwd' is not defined"
     ]
    }
   ],
   "source": [
    "import oc\n",
    "gwd()"
   ]
  },
  {
   "cell_type": "code",
   "execution_count": null,
   "metadata": {
    "collapsed": true
   },
   "outputs": [],
   "source": []
  }
 ],
 "metadata": {
  "kernelspec": {
   "display_name": "Python 3",
   "language": "python",
   "name": "python3"
  },
  "language_info": {
   "codemirror_mode": {
    "name": "ipython",
    "version": 3
   },
   "file_extension": ".py",
   "mimetype": "text/x-python",
   "name": "python",
   "nbconvert_exporter": "python",
   "pygments_lexer": "ipython3",
   "version": "3.6.3"
  }
 },
 "nbformat": 4,
 "nbformat_minor": 2
}
